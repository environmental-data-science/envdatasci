{
 "cells": [
  {
   "cell_type": "markdown",
   "metadata": {},
   "source": [
    "| [⬅️ Previous Exercise](Exercise2-2_Pandas.ipynb) | [🏠 Index](Index.ipynb) | [➡️ Next Exercise](Exercise3_SciPy.ipynb) |\n",
    "\n",
    "# Exercise 2.3: Matplotlib 📈\n",
    "\n",
    "\n",
    "![mpl](./assets/mpl.svg)\n",
    "\n",
    "Data visualization is one of the most important steps in data analysis, as visualizing data can be useful for exploring relationships between variables in the early stages and is extremely valuable for communicating your results. There are extensive options for plotting in Python – some favorites include statistical visualizations in [<span class=\"codeb\">Seaborn</span>](https://seaborn.pydata.org) and interactive plots for web applications in [<span class=\"codeb\">Bokeh</span>](https://docs.bokeh.org/en/latest/index.html). The original and fundamental library for visualizations in Python, however, is [<span class=\"codeb\">matplotlib</span>](https://matplotlib.org). \n",
    "\n",
    "<span class=\"code\">Matplotlib</span> was the first plotting library developed for Python and remains the most widely used library for data visualization in the Python community. Designed to resemble graphics in MATLAB, <span class=\"code\">matplotlib</span> is reminiscent of MATLAB in both appearance and functionality. As a result, it is not the easiest library to work with, and deviates from the object-oriented syntax we are familiar with in Python. \n",
    "\n",
    "This exercise will serve as an introduction to plotting in Python using <span class=\"code\">matplotlib</span>. The nature of <span class=\"code\">matplotlib</span> – and figure-making in general – is such that the easiest way to learn is by following examples. As such, this exercise is structured a bit differently than the others, so be sure to look carefully at the coded examples. Finally, the *best* way to learn advanced functions and find help with <span class=\"code\">matplotlib</span> is by exploring the examples in the [gallery](https://matplotlib.org/gallery/index.html).\n",
    "\n",
    "\n",
    "<p style=\"height:1pt\"> </p>\n",
    "\n",
    "<div class=\"boxhead2\">\n",
    "    Exercise 2.3 Topics\n",
    "</div>\n",
    "\n",
    "<div class=\"boxtext2\">\n",
    "<ul class=\"a\">\n",
    "    <li> 📌 Introduction to <span class=\"codeb\">matplotlib.pyplot</span> </li>\n",
    "    <ul class=\"b\">\n",
    "        <li> Anatomy of a plot </li>\n",
    "    </ul>\n",
    "    <li> 📌 Basic plotting </li>\n",
    "    <ul class=\"b\">\n",
    "        <li> Line plots using <code>plt.plot()</code> </li>\n",
    "        <li> Scatter plots using <code>plt.scatter()</code> </li>\n",
    "    </ul>\n",
    "    <li> 📌 Keyword arguments </li>\n",
    "    <ul class=\"b\">\n",
    "        <li> Colors </li>\n",
    "        <li> Linestyles </li>\n",
    "        <li> Markers </li>\n",
    "        <li> Explicit definitions vs. shortcuts </li>\n",
    "    </ul>    \n",
    "    <li> 📌 Axes settings </li>\n",
    "    <ul class=\"b\">\n",
    "        <li> Limits, labels, and ticks </li>\n",
    "        <li> Legends + titles </li>\n",
    "    </ul>\n",
    "    <li> 📌 Subplots + multiple axes </li>\n",
    "    <ul class=\"b\">\n",
    "        <li> <span class=\"code\">Figure</span> vs. <span class=\"code\">Axes</span> methods </li>\n",
    "    </ul>\n",
    "    <li> 📌 Working with real data </li>\n",
    "    \n",
    "    \n",
    "</ul>\n",
    "</div>\n",
    "\n",
    "<hr style=\"border-top: 0.2px solid gray; margin-top: 12pt; margin-bottom: 0pt\"></hr>\n",
    "\n",
    "### Instructions\n",
    "Work through the exercise, writing code where indicated. To run a cell, click on the cell and press \"Shift\" + \"Enter\" or click the \"Run\" button in the toolbar at the top. Note: Do not restart the kernel and clear all outputs. If this happens, run the last cell in the notebook before proceeding.\n",
    "\n",
    "<p style=\"color:#408000; font-weight: bold\"> 🐍 &nbsp; &nbsp; This symbol designates an important note about Python structure, syntax, or another quirk.  </p>\n",
    "\n",
    "<p style=\"color:#008C96; font-weight: bold\"> ▶️ &nbsp; &nbsp; This symbol designates a cell with code to be run.  </p>\n",
    "\n",
    "<p style=\"color:#008C96; font-weight: bold\"> ✏️ &nbsp; &nbsp; This symbol designates a partially coded cell with an example.  </p>\n",
    "\n",
    "<p style=\"color:#008C96; font-weight: bold\"> 📚 &nbsp; &nbsp; This symbol designates a practice question.  </p>\n",
    "\n",
    "\n",
    "<hr style=\"border-top: 1px solid gray; margin-top: 24px; margin-bottom: 1px\"></hr>"
   ]
  },
  {
   "cell_type": "markdown",
   "metadata": {},
   "source": [
    "## Introduction to <span class=\"codeb\">matplotlib</span>\n",
    "\n",
    "<img src=\"./assets/matplotlib.svg\" alt=\"matplotlib\" width=\"500\"/>\n",
    "\n",
    "As always, we will begin by importing the required libraries and packages. For plotting, itself, we will use a module of the <span class=\"code\">matplotlib</span> library called <span class=\"code\"> pyplot</span>. The <span class=\"code\"> pyplot</span> module consists of a collection of functions to display and edit figures. As you advance with Python and with data analysis, you may want to explore additional features of <span class=\"code\"> matplotlib</span>, but <span class=\"code\"> pyplot</span> will suit the vast majority of your plotting needs at this stage.\n",
    "\n",
    "The standard import statement for <span class=\"code\"> matplotlib.pyplot </span> is:\n",
    "\n",
    "```python\n",
    "import matplotlib.pyplot as plt\n",
    "```\n",
    "\n",
    "<div class=\"run\">\n",
    "    ▶️ <b> Run the cell below. </b>\n",
    "</div>"
   ]
  },
  {
   "cell_type": "code",
   "execution_count": null,
   "metadata": {},
   "outputs": [],
   "source": [
    "# Imports\n",
    "import numpy as np\n",
    "import pandas as pd\n",
    "import matplotlib.pyplot as plt"
   ]
  },
  {
   "cell_type": "markdown",
   "metadata": {},
   "source": [
    "### Anatomy of a <span class=\"codeb\">matplotlib</span> plot\n",
    "\n",
    "The core components of a <span class=\"code\">matplotlib</span> plot are the `Figure` and the `Axes`. The `Figure` is the overall window upon which all components are drawn. It serves as the blank container for plots, as well as other things, such as a legend, color bar, etc. You can (and will) create multiple independent figures, and each figure can hold multiple `Axes`. To the figure you will add `Axes`, the area where the data are actually plotted and where associated ticks, labels, etc. live. \n",
    "\n",
    "When working with a single plot, we will mostly deal with the `Figure` object and its routines, but we will see the `Axes` become important as we increase the complexity of our plots.\n",
    "\n",
    "<img src=\"./assets/mpl_plot.svg\" alt=\"plot\" width=\"700\"/>\n"
   ]
  },
  {
   "cell_type": "markdown",
   "metadata": {},
   "source": [
    "### Basic plotting\n",
    "<hr style=\"border-top: 0.2px solid gray; margin-top: 12px; margin-bottom: 1px\"></hr>\n",
    "\n",
    "We will start with the most basic plotting routines: `plt.plot()` and `plt.scatter()`. The first, `plt.plot()`, is used to generate a connected line plot (with optional markers for individual data points). `plt.scatter()`, as the name suggests, is used to generate a scatter plot.\n",
    "\n",
    "Each time you want to create a new figure, it is wise to first initialize a new instance of the `matplotlib.figure.Figure` class on which to plot our data. While this is not required to display the plot, if you subsequently plot additional data without a new `Figure` instance, all data will be plotted on the same figure. For example, let's generate a few functions, $y_{\\sin} = \\sin{(x)}$ and $y_{\\cos} = \\cos{(x)}$:\n",
    "\n",
    "```python\n",
    "# Generate a 1D array with 300 points between -5 and 5\n",
    "x = np.linspace(-5,5,300)\n",
    "# Generate sine wave\n",
    "ysin = np.sin(x)\n",
    "# Generate cosine wave\n",
    "ycos = np.cos(x)\n",
    "```\n",
    "\n",
    "We can plot these on the same figure without instancing `plt.figure()` as follows:\n",
    "\n",
    "```python\n",
    "# Plot sine wave\n",
    "plt.plot(x,ysin)\n",
    "# Plot cosine wave\n",
    "plt.plot(x,ycos)\n",
    "```\n",
    "\n",
    "<div class=\"run\">\n",
    "    ▶️ <b> Run the cell below. </b>\n",
    "</div>"
   ]
  },
  {
   "cell_type": "code",
   "execution_count": null,
   "metadata": {},
   "outputs": [],
   "source": [
    "# Generate a 1D array with 100 points between -5 and 5\n",
    "x = np.linspace(-5,5,100)\n",
    "# Generate sine wave\n",
    "ysin = np.sin(x)\n",
    "# Generate cosine wave\n",
    "ycos = np.cos(x)\n",
    "\n",
    "# Plot sine wave\n",
    "plt.plot(x,ysin)\n",
    "# Plot cosine wave\n",
    "plt.plot(x,ycos)"
   ]
  },
  {
   "cell_type": "markdown",
   "metadata": {},
   "source": [
    "To create multiple graphs in separate figure windows, however, you need to create new `Figure` instances as follows:\n",
    "\n",
    "```python\n",
    "fig = plt.figure()\n",
    "```\n",
    "\n",
    "<div class=\"run\">\n",
    "    ▶️ <b> Run the cell below. </b>\n",
    "</div>"
   ]
  },
  {
   "cell_type": "code",
   "execution_count": null,
   "metadata": {},
   "outputs": [],
   "source": [
    "# Plot sine wave\n",
    "fig1 = plt.figure()\n",
    "plt.plot(x,ysin)\n",
    "\n",
    "# Plot cosine wave\n",
    "fig2 = plt.figure()\n",
    "plt.plot(x,ycos)"
   ]
  },
  {
   "cell_type": "markdown",
   "metadata": {},
   "source": [
    "This also allows you to access the `Figure` object later by refering to the variable `fig`. Thus, even when you want to plot all data on a single plot, it is best to always start by initializing a new `Figure`.\n",
    "\n",
    "To generate a scatter plot instead of a line, we can use `plt.scatter()`:\n",
    "\n",
    "\n",
    "```python\n",
    "# Generate new x and y with fewer points for legibility\n",
    "xscat = np.linspace(-5,5,25)\n",
    "yscat = np.sin(xscat)\n",
    "\n",
    "# Plot sine function as scatter plot\n",
    "plt.scatter(xscat,yscat)\n",
    "```\n",
    "\n",
    "\n",
    "\n",
    "<div class=\"run\">\n",
    "    ▶️ <b> Run the cell below. </b>\n",
    "</div>"
   ]
  },
  {
   "cell_type": "code",
   "execution_count": null,
   "metadata": {},
   "outputs": [],
   "source": [
    "# Generate new x and y with fewer points for legibility\n",
    "xscat = np.linspace(-5,5,25)\n",
    "yscat = np.sin(xscat)\n",
    "\n",
    "# Plot sine function as scatter plot\n",
    "plt.scatter(xscat,yscat)"
   ]
  },
  {
   "cell_type": "markdown",
   "metadata": {},
   "source": [
    "You can also create a scatter plot using `plt.plot()` with **keyword arguments**, which allow you to change things like the color, style, and size of the lines and markers. We will explore some of these **keyword arguments** in the next section."
   ]
  },
  {
   "cell_type": "markdown",
   "metadata": {},
   "source": [
    "### Keyword arguments\n",
    "<hr style=\"border-top: 0.2px solid gray; margin-top: 12px; margin-bottom: 1px\"></hr>\n",
    "\n",
    "In addition to the required `x` and `y` parameters, there are a number of optional keyword arguments that can be passed to the <span class=\"code\">matplotlib</span> plotting functions. Here, we will consider a few of the most useful: `color`, `marker`, and `linestyle`.\n",
    "\n",
    "#### Colors\n",
    "The first thing you might wish to control is the color of your plot. <span class=\"code\">Matplotlib</span> accepts several different color definitions to the `color` keyword argument, which is a feature of most plotting functions. \n",
    "\n",
    "First, colors can be passed as strings according to their **HTML/CSS names**. For example:\n",
    "\n",
    "```python\n",
    "plt.plot(x, y, 'green')\n",
    "```\n",
    "\n",
    "\n",
    "In total, there are 140 colors allowed in HTML; their names are shown below.\n",
    "\n",
    "![colors](./assets/colors.png)\n",
    "\n",
    "As you can see in the image above, the basic colors can also be defined by a single-letter shortcut. These are shown in the table below.\n",
    "\n",
    "\n",
    "| Letter code                    | Color name |\n",
    "| :----------------------------: | :--------- |\n",
    "| <span class=\"codeb\">'r'</span> | **<span style=\"color:red\">red</span>**         |\n",
    "| <span class=\"codeb\">'g'</span> | **<span style=\"color:green\">green</span>**     |\n",
    "| <span class=\"codeb\">'b'</span> | **<span style=\"color:blue\">blue</span>**       |\n",
    "| <span class=\"codeb\">'c'</span> | **<span style=\"color:cyan\">cyan</span>**       |\n",
    "| <span class=\"codeb\">'m'</span> | **<span style=\"color:magenta\">magenta</span>** |\n",
    "| <span class=\"codeb\">'y'</span> | **<span style=\"color:yellow\">yellow</span>**   |\n",
    "| <span class=\"codeb\">'k'</span> | **<span style=\"color:black\">black</span>**     |\n",
    "| <span class=\"codeb\">'w'</span> | **<span style=\"color:black\">white</span>**     |\n",
    "\n",
    "\n",
    "Another way of specifying colors is to use an **RGB(A) tuple**, where the brightness of each channel (R, G, or B, which correspond to *red*, *green*, and *blue*) is given as a float between 0 and 1. An optional fourth value, A or *alpha*, value can be passed to specify the opacity of the line or marker.\n",
    "\n",
    "```python\n",
    "plt.plot(x, y, color=(0.2,0.7,1.0))\n",
    "```\n",
    "\n",
    "A **grayscale** value can be used by passing a number between 0 and 1 as a string. In this representation, `'0.0'` corresponds to black and `'1.0'` corresponds to white. \n",
    "\n",
    "```python\n",
    "plt.plot(x, y, color='0.25')\n",
    "```\n",
    "\n",
    "My personal favorite way to define colors is to use <a href=\"https://www.color-hex.com/color-names.html\"> <span style=\"color:black;font-weight:bold\">color hex codes</span></a>, which represent colors as hexadecimals ranging from 0 to FF. Color hex codes consist of a hash character `#` followed by six hex values (e.g. `#AFD645`). Hex codes must be passed as strings (e.g. `'#AFD645'`) in <span class=\"code\">matplotlib</span> and are perhaps the most flexible way to select colors.\n",
    "\n",
    "```python\n",
    "plt.plot(x, y, color='#C6E2FF')\n",
    "```\n",
    "\n",
    "In the cell below, five functions are plotted in different colors, each specified by a different definition.\n",
    "\n",
    "<div class=\"run\">\n",
    "    ▶️ <b> Run the cell below. </b>\n",
    "</div>"
   ]
  },
  {
   "cell_type": "code",
   "execution_count": null,
   "metadata": {},
   "outputs": [],
   "source": [
    "# Initialize empty figure\n",
    "fig1 = plt.figure()\n",
    "# Plot sine wave with different colors\n",
    "plt.plot(x, np.sin(x - 0), color='darkblue')     # HTML name\n",
    "plt.plot(x, np.sin(x - 1), color='m')            # Short letter code\n",
    "plt.plot(x, np.sin(x - 2), color=(0.0,0.8,0.81)) # RGB tuple\n",
    "plt.plot(x, np.sin(x - 3), color='0.65')         # Grayscale between 0 and 1\n",
    "plt.plot(x, np.sin(x - 4), color='#B8D62E')      # Hex code"
   ]
  },
  {
   "cell_type": "markdown",
   "metadata": {},
   "source": [
    "#### Linestyles\n",
    "\n",
    "Using the `linestyle` keyword argument, you can change the style of the line plotted using `plt.plot()`. These can be specified either by their name or a shortcut. A few of the style options (and their <span class=\"code\">matplotlib</span> shortcuts) are shown in the table below. To see a full list of `linestyle` options, see the [docs](https://matplotlib.org/3.1.0/gallery/lines_bars_and_markers/linestyles.html).\n",
    "\n",
    "| Short code | Line style |\n",
    "| :--------: | :--------- |\n",
    "| **<span class=\"code\">'-'</span>**  | <span class=\"code\">solid</span>   |\n",
    "| **<span class=\"code\">'--'</span>** | <span class=\"code\">dashed</span>  |\n",
    "| **<span class=\"code\">':'</span>**  | <span class=\"code\">dotted</span>  |\n",
    "| **<span class=\"code\">'-.'</span>** | <span class=\"code\">dashdot</span> |\n",
    "\n",
    "\n",
    "As we've already seen, the default `linestyle` is solid. The syntax for changing a line's style is:\n",
    "\n",
    "```python\n",
    "plt.plot(x, y, linestyle='dashed')\n",
    "```\n",
    "\n",
    "or, more commonly:\n",
    "\n",
    "```python\n",
    "plt.plot(x, y, linestyle='--')\n",
    "```\n",
    "\n",
    "Let's adjust the style of our waveform plot using the `linestyle` keyword argument.\n",
    "\n",
    "<div class=\"run\">\n",
    "    ▶️ <b> Run the cell below. </b>\n",
    "</div>"
   ]
  },
  {
   "cell_type": "code",
   "execution_count": null,
   "metadata": {},
   "outputs": [],
   "source": [
    "# Initialize empty figure\n",
    "fig1 = plt.figure()\n",
    "# Plot sine wave with different colors + linestyles\n",
    "plt.plot(x, np.sin(x - 0), color='darkblue', linestyle='-')\n",
    "plt.plot(x, np.sin(x - 1), color='m', linestyle='dashed')\n",
    "plt.plot(x, np.sin(x - 2), color=(0.0,0.8,0.81), linestyle=':') \n",
    "plt.plot(x, np.sin(x - 3), color='0.65', linestyle='solid')\n",
    "plt.plot(x, np.sin(x - 4), color='#B8D62E', linestyle='-.')"
   ]
  },
  {
   "cell_type": "markdown",
   "metadata": {},
   "source": [
    "#### Markers\n",
    "\n",
    "Markers can be used in `plt.plot()` and `plt.scatter()`. There are several [available markers](https://matplotlib.org/api/markers_api.html#module-matplotlib.markers) in <span class=\"code\">matplotlib</span>, and you can also define your own. A few of the most useful are shown in the table below. \n",
    "\n",
    "| Marker code | Symbol | Description |\n",
    "| :---------: | :----: | :---------- |\n",
    "| **<span class=\"code\">'o'</span>** | &#x25CF;   | circle   |\n",
    "| **<span class=\"code\">'.'</span>** | **&sdot;** | point    |\n",
    "| **<span class=\"code\">'*'</span>** | &#x2605;   | star     |\n",
    "| **<span class=\"code\">'+'</span>** | $+$        | plus     |\n",
    "| **<span class=\"code\">'x'</span>** | $\\times$   | x        |\n",
    "| **<span class=\"code\">'^'</span>** | &#x25B2;   | triangle |\n",
    "| **<span class=\"code\">'s'</span>** | &#x25FC;   | square   |\n",
    "\n",
    "Note that unlike `color` and `linestyle`, the `marker` keyword argument only accepts a code to specify the marker style.\n",
    "\n",
    "```python\n",
    "plt.scatter(x, y, marker='+')\n",
    "```\n",
    "\n",
    "<div class=\"run\">\n",
    "    ▶️ <b> Run the cell below. </b>\n",
    "</div>"
   ]
  },
  {
   "cell_type": "code",
   "execution_count": null,
   "metadata": {},
   "outputs": [],
   "source": [
    "# Initialize empty figure\n",
    "fig1 = plt.figure()\n",
    "# Plot sine wave as scatter plot with different colors + markers\n",
    "plt.scatter(xscat, yscat-0, color='darkblue', marker='o')\n",
    "plt.scatter(xscat, yscat-1, color='m', marker='.')\n",
    "plt.scatter(xscat, yscat-2, color=(0.0,0.8,0.81), marker='+')\n",
    "plt.scatter(xscat, yscat-3, color='0.65', marker='*')\n",
    "plt.scatter(xscat, yscat-4, color='#B8D62E', marker='s')"
   ]
  },
  {
   "cell_type": "markdown",
   "metadata": {},
   "source": [
    "Using the `marker` keyword argument with the `plt.plot()` function creates a connected line plot, where the data points are designated by markers and connected by lines.\n",
    "\n",
    "<div class=\"run\">\n",
    "    ▶️ <b> Run the cell below. </b>\n",
    "</div>"
   ]
  },
  {
   "cell_type": "code",
   "execution_count": null,
   "metadata": {},
   "outputs": [],
   "source": [
    "# Initialize empty figure\n",
    "fig1 = plt.figure()\n",
    "# Plot sine wave with different colors + markers\n",
    "plt.plot(xscat, np.sin(xscat - 0), color='darkblue', marker='o')\n",
    "plt.plot(xscat, np.sin(xscat - 1), color='m', marker='.')\n",
    "plt.plot(xscat, np.sin(xscat - 2), color=(0.0,0.8,0.81), marker='+')\n",
    "plt.plot(xscat, np.sin(xscat - 3), color='0.65', marker='*')\n",
    "plt.plot(xscat, np.sin(xscat - 4), color='#B8D62E', marker='s')"
   ]
  },
  {
   "cell_type": "markdown",
   "metadata": {},
   "source": [
    "#### Explicit definitions vs. shortcuts\n",
    "\n",
    "Up to now, we have used **explicit definitions** to specify keyword arguments. While this is generally preferable, <span class=\"code\">matplotlib</span> does allow `color`, `linestyle`, and `marker` codes to be combined into a single, non-keyword argument. For example:\n",
    "\n",
    "```python\n",
    "# Plot a dashed red line\n",
    "plt.plot(x, y, 'r--')\n",
    "```\n",
    "\n",
    "Several examples are presented in the cell below.\n",
    "\n",
    "<div class=\"run\">\n",
    "    ▶️ <b> Run the cell below. </b>\n",
    "</div>"
   ]
  },
  {
   "cell_type": "code",
   "execution_count": null,
   "metadata": {},
   "outputs": [],
   "source": [
    "# Initialize empty figure\n",
    "fig1 = plt.figure()\n",
    "# Plot sine wave with different colors + markers\n",
    "plt.plot(xscat, yscat-0, 'b-o')    # Solid blue line with circle markers\n",
    "plt.plot(xscat, yscat-1, 'm--*')   # Dashed magenta line with star markers\n",
    "plt.plot(xscat, yscat-2, 'c+')     # Cyan plus markers\n",
    "plt.plot(xscat, yscat-3, 'k')      # Solid black line\n",
    "plt.plot(xscat, yscat-4, 'y-s')    # Solid yellow line with square markers"
   ]
  },
  {
   "cell_type": "markdown",
   "metadata": {},
   "source": [
    "As you can see, the downside of this method is that you are limited to the eight colors that have a single-letter code. To use other colors, you must use explicitly defined keyword arguments.\n",
    "\n",
    "In addition to those we explored in this section, other useful keyword arguments include `linewidth` and `markersize`, which do exactly what you'd expect them to do. For a full list of keyword arguments (you should know what's coming by now), see the [docs](https://matplotlib.org/3.2.1/api/_as_gen/matplotlib.pyplot.plot.html#matplotlib.pyplot.plot)."
   ]
  },
  {
   "cell_type": "markdown",
   "metadata": {},
   "source": [
    "### Axes settings\n",
    "<hr style=\"border-top: 0.2px solid gray; margin-top: 12px; margin-bottom: 1px\"></hr>\n",
    "\n",
    "Next, we will explore how to scale and annotate a plot using axes routines that control what goes on around the edges of the plot. \n",
    "\n",
    "#### Limits, labels, + ticks\n",
    "\n",
    "By default, <span class=\"code\">matplotlib</span> will attempt to determine **x- and y-axis limits**, which usually work pretty well. Sometimes, however, it is useful to have finer control. The simplest way to adjust the display limits is to use the `plt.xlim()` and `plt.ylim()` methods:\n",
    "\n",
    "```python\n",
    "# Set axis limits\n",
    "plt.xlim(xmin, xmax)\n",
    "plt.ylim(ymin, ymax)\n",
    "```\n",
    "\n",
    "In the example below, adjust the numbers (these can be `int` or `float` values) to see how the plot changes.\n",
    "\n",
    "<div class=\"run\">\n",
    "    ▶️ <b> Run the cell below. </b>\n",
    "</div>"
   ]
  },
  {
   "cell_type": "code",
   "execution_count": null,
   "metadata": {},
   "outputs": [],
   "source": [
    "# Initialize empty figure\n",
    "fig1 = plt.figure()\n",
    "# Plot sine wave \n",
    "plt.plot(x, ysin, color='darkblue')\n",
    "\n",
    "# Set axis limits\n",
    "plt.xlim(-5,5)\n",
    "plt.ylim(-2,2)"
   ]
  },
  {
   "cell_type": "markdown",
   "metadata": {},
   "source": [
    "You may also find it useful to adjust the **ticks** and/or **tick labels** that <span class=\"code\">matplotlib </span> displays by default. The `plt.xticks()` and `plt.yticks()` methods allow you to control the locations of both the ticks and the labels on the x- and y-axes, respectively. Both methods accept two list or array-like arguments, as well as optional keyword arguments. The first corresponds to the ticks, while the second controls the tick labels.\n",
    "\n",
    "```python\n",
    "# Set x-axis ticks at 0, 0.25, 0.5, 0.75, 1.0 with all labeled\n",
    "plt.xticks([0,0.25,0.5,0.75,1.0])\n",
    "# Set y-axis ticks from 0 to 100 with ticks on 10s and labels on 20s\n",
    "plt.yticks(np.arange(0,101,10),['0','','20','','40','','60','','80','','100'])\n",
    "```\n",
    "\n",
    "If the labels are not specified, all ticks will be labeled accordingly. To only label certain ticks, you must pass a list with empty strings in the location of the ticks you wish to leave unlabeled (or the ticks will be labeled in order).\n",
    "\n",
    "<div class=\"run\">\n",
    "    ▶️ <b> Run the cell below. </b>\n",
    "</div>"
   ]
  },
  {
   "cell_type": "code",
   "execution_count": null,
   "metadata": {},
   "outputs": [],
   "source": [
    "# Initialize empty figure\n",
    "fig1 = plt.figure()\n",
    "# Plot sine wave \n",
    "plt.plot(x, ysin, color='darkblue')\n",
    "\n",
    "# Set x-axis limits\n",
    "plt.xlim(-5,5)\n",
    "\n",
    "# Set axis ticks\n",
    "plt.xticks([-4,-3,-2,-1,0,1,2,3,4],['-4','','-2','','0','','2','','4'])\n",
    "plt.yticks([-1,-0.5,0,0.5,1])"
   ]
  },
  {
   "cell_type": "markdown",
   "metadata": {},
   "source": [
    "As with any plot, it is imperative to include **x- and y-axis labels**. This can be done by passing strings to the `plt.xlabel()` and `plt.ylabel()` methods:\n",
    "\n",
    "```python\n",
    "# Set axis labels\n",
    "plt.xlabel('x-axis')\n",
    "plt.ylabel('y-axis')\n",
    "```\n",
    "<div class=\"run\">\n",
    "    ▶️ <b> Run the cell below. </b>\n",
    "</div>"
   ]
  },
  {
   "cell_type": "code",
   "execution_count": null,
   "metadata": {},
   "outputs": [],
   "source": [
    "# Initialize empty figure\n",
    "fig1 = plt.figure()\n",
    "# Plot sine wave \n",
    "plt.plot(x, ysin, color='darkblue')\n",
    "\n",
    "# Set x-axis limits\n",
    "plt.xlim(-5,5)\n",
    "\n",
    "# Set axis ticks\n",
    "plt.xticks([-4,-3,-2,-1,0,1,2,3,4],['-4','','-2','','0','','2','','4'])\n",
    "plt.yticks([-1,-0.5,0,0.5,1])\n",
    "\n",
    "# Set axis labels\n",
    "plt.xlabel('x-axis')\n",
    "plt.ylabel('y-axis')"
   ]
  },
  {
   "cell_type": "markdown",
   "metadata": {},
   "source": [
    "A nice feature about <span class=\"code\">matplotlib</span> is that it supports TeX formatting for [mathematical expressions](https://matplotlib.org/tutorials/text/mathtext.html). This is quite useful for displaying equations, exponents, units, and other mathematical operators. The syntax for TeX expressions is `'r$TeX expression here$'`. For example, we can display the axis labels as $x$ and $\\sin{(x)}$ as follows:\n",
    "\n",
    "<div class=\"run\">\n",
    "    ▶️ <b> Run the cell below. </b>\n",
    "</div>"
   ]
  },
  {
   "cell_type": "code",
   "execution_count": null,
   "metadata": {},
   "outputs": [],
   "source": [
    "# Initialize empty figure\n",
    "fig1 = plt.figure()\n",
    "# Plot sine wave \n",
    "plt.plot(x, ysin, color='darkblue')\n",
    "\n",
    "# Set x-axis limits\n",
    "plt.xlim(-5,5)\n",
    "\n",
    "# Set axis ticks\n",
    "plt.xticks([-4,-3,-2,-1,0,1,2,3,4],['-4','','-2','','0','','2','','4'])\n",
    "plt.yticks([-1,-0.5,0,0.5,1])\n",
    "\n",
    "# Set axis labels\n",
    "plt.xlabel(r'$x$')\n",
    "plt.ylabel(r'$\\sin{(x)}$')"
   ]
  },
  {
   "cell_type": "markdown",
   "metadata": {},
   "source": [
    "#### Legends + titles\n",
    "\n",
    "Adding a **title** to your plot is analogous to labeling the x- and y-axes. The `plt.title()` method allows you to set the title of your plot by passing a string:\n",
    "\n",
    "```python\n",
    "plt.title('Title')\n",
    "```\n",
    "\n",
    "<div class=\"run\">\n",
    "    ▶️ <b> Run the cell below. </b>\n",
    "</div>"
   ]
  },
  {
   "cell_type": "code",
   "execution_count": null,
   "metadata": {},
   "outputs": [],
   "source": [
    "# Initialize empty figure\n",
    "fig1 = plt.figure()\n",
    "# Plot sine wave \n",
    "plt.plot(x, ysin, color='darkblue')\n",
    "plt.plot(x, ycos, color='#B8D62E')\n",
    "\n",
    "# Set x-axis limits\n",
    "plt.xlim(-5,5)\n",
    "\n",
    "# Set axis ticks\n",
    "plt.xticks([-4,-3,-2,-1,0,1,2,3,4],['-4','','-2','','0','','2','','4'])\n",
    "plt.yticks([-1,-0.5,0,0.5,1])\n",
    "\n",
    "# Set axis labels\n",
    "plt.xlabel(r'$x$')\n",
    "plt.ylabel(r'$y$')\n",
    "\n",
    "# Set title\n",
    "plt.title('Sinusoidal functions')"
   ]
  },
  {
   "cell_type": "markdown",
   "metadata": {},
   "source": [
    "When multiple datasets are plotted on the same axes it is often useful to include a **legend** that labels each line or set of points. <span class=\"code\">Matplotlib</span> has a quick way of displaying a legend using the `plt.legend()` method. There are multiple ways of specifying the label for each dataset; I prefer to pass a list of strings to `plt.legend()`:\n",
    "\n",
    "```python\n",
    "# Plot data\n",
    "plt.plot(x1, y1)\n",
    "plt.plot(x2, y2)\n",
    "\n",
    "# Legend\n",
    "plt.legend(labels=['Data1', 'Data2'])\n",
    "```\n",
    "\n",
    "<div class=\"run\">\n",
    "    ▶️ <b> Run the cell below. </b>\n",
    "</div>"
   ]
  },
  {
   "cell_type": "code",
   "execution_count": null,
   "metadata": {},
   "outputs": [],
   "source": [
    "# Initialize empty figure\n",
    "fig1 = plt.figure()\n",
    "# Plot sine wave \n",
    "plt.plot(x, ysin, color='darkblue')\n",
    "plt.plot(x, ycos, color='#B8D62E')\n",
    "\n",
    "# Set x-axis limits\n",
    "plt.xlim(-5,5)\n",
    "\n",
    "# Set axis ticks\n",
    "plt.xticks([-4,-3,-2,-1,0,1,2,3,4],['-4','','-2','','0','','2','','4'])\n",
    "plt.yticks([-1,-0.5,0,0.5,1])\n",
    "\n",
    "# Set axis labels\n",
    "plt.xlabel(r'$x$')\n",
    "plt.ylabel(r'$y$')\n",
    "\n",
    "# Set title\n",
    "plt.title('Sinusoidal functions')\n",
    "\n",
    "# Legend\n",
    "plt.legend(labels=['sin(x)','cos(x)'])"
   ]
  },
  {
   "cell_type": "markdown",
   "metadata": {},
   "source": [
    "Another way of setting the data labels is to use the `label` keyword argument in the `plt.plot()` (or `plt.scatter()`) function:\n",
    "\n",
    "```python\n",
    "# Plot data\n",
    "plt.plot(x1, y1, label='Data1')\n",
    "plt.plot(x2, y2, label='Data2')\n",
    "\n",
    "# Legend\n",
    "plt.legend()\n",
    "```\n",
    "\n",
    "Note that you must still run `plt.legend()` to display the legend.\n",
    "\n",
    "<div class=\"run\">\n",
    "    ▶️ <b> Run the cell below. </b>\n",
    "</div>"
   ]
  },
  {
   "cell_type": "code",
   "execution_count": null,
   "metadata": {},
   "outputs": [],
   "source": [
    "# Initialize empty figure\n",
    "fig1 = plt.figure()\n",
    "# Plot sine wave \n",
    "plt.plot(x, ysin, label='sin(x)', color='darkblue')\n",
    "plt.plot(x, ycos, label='cos(x)', color='#B8D62E')\n",
    "\n",
    "# Set x-axis limits\n",
    "plt.xlim(-5,5)\n",
    "\n",
    "# Set axis ticks\n",
    "plt.xticks([-4,-3,-2,-1,0,1,2,3,4],['-4','','-2','','0','','2','','4'])\n",
    "plt.yticks([-1,-0.5,0,0.5,1])\n",
    "\n",
    "# Set axis labels\n",
    "plt.xlabel(r'$x$')\n",
    "plt.ylabel(r'$y$')\n",
    "\n",
    "# Set title\n",
    "plt.title('Sinusoidal functions')\n",
    "\n",
    "# Legend\n",
    "plt.legend()"
   ]
  },
  {
   "cell_type": "markdown",
   "metadata": {},
   "source": [
    "### Subplots + multiple axes\n",
    "<hr style=\"border-top: 0.2px solid gray; margin-top: 12px; margin-bottom: 1px\"></hr>\n",
    "\n",
    "Now that we've established the basics of plotting in <span class=\"code\">matplotlib</span>, let's get a bit more complicated. Oftentimes, you may want to plot data on multiple axes within the same figure. The easiest way to do this in <span class=\"code\">matplotlib</span> is to use the `plt.subplot()` function, which takes three non-keyword arguments: `nrows`, `ncols`, and `index`. `nrows` and `ncols` correspond to the total number of rows and columns of the entire figure, while `index` refers to the index position of the current axes. Importantly (and annoyingly), the `index` for subplots starts in the upper left corner at **1** (not 0)!. The image below contains a few examples of how <span class=\"code\">matplotlib</span> arranges subplots.\n",
    "\n",
    "\n",
    "<img src=\"./assets/mpl_subplot.svg\" alt=\"subplot\" width=\"600\"/>\n",
    "\n",
    "The most explicit way of adding subplots is to use the `fig.add_subplot()` command to initialize new axes as variables:\n",
    "\n",
    "```python\n",
    "# Initialize empty figure\n",
    "fig = plt.figure()\n",
    "# Add four axes\n",
    "ax1 = fig.add_subplot(2,2,1)\n",
    "ax2 = fig.add_subplot(2,2,2)\n",
    "ax3 = fig.add_subplot(2,2,3)\n",
    "ax4 = fig.add_subplot(2,2,4)\n",
    "```\n",
    "\n",
    "This allows you to access each `Axes` object later to plot data and adjust the axes parameters.\n",
    "\n",
    "<div class=\"run\">\n",
    "    ▶️ <b> Run the cell below. </b>\n",
    "</div>"
   ]
  },
  {
   "cell_type": "code",
   "execution_count": null,
   "metadata": {},
   "outputs": [],
   "source": [
    "# Initialize empty figure\n",
    "fig = plt.figure()\n",
    "# Add four axes\n",
    "ax1 = fig.add_subplot(2,2,1)\n",
    "ax2 = fig.add_subplot(2,2,2)\n",
    "ax3 = fig.add_subplot(2,2,3)\n",
    "ax4 = fig.add_subplot(2,2,4)"
   ]
  },
  {
   "cell_type": "markdown",
   "metadata": {},
   "source": [
    "To plot data, we use `ax.plot()` or `ax.scatter()`. These methods are analogous to `plt.plot()` and `plt.scatter()` for acting on the `Axes`, rather than the `Figure` object.\n",
    "\n",
    "```python\n",
    "# Plot data\n",
    "ax1.plot(x, y)\n",
    "ax2.plot(x, y)\n",
    "ax3.plot(x, y)\n",
    "ax4.plot(x, y)\n",
    "```\n",
    "\n",
    "<div class=\"run\">\n",
    "    ▶️ <b> Run the cell below. </b>\n",
    "</div>"
   ]
  },
  {
   "cell_type": "code",
   "execution_count": null,
   "metadata": {},
   "outputs": [],
   "source": [
    "# Initialize empty figure\n",
    "fig = plt.figure()\n",
    "# Add four axes\n",
    "ax1 = fig.add_subplot(2,2,1)\n",
    "ax2 = fig.add_subplot(2,2,2)\n",
    "ax3 = fig.add_subplot(2,2,3)\n",
    "ax4 = fig.add_subplot(2,2,4)\n",
    "\n",
    "# Plot data\n",
    "# Plot sine wave with different colors on different axes\n",
    "ax1.plot(x, np.sin(x - 0), color='darkblue')\n",
    "ax2.plot(x, np.sin(x - 1), color='m')\n",
    "ax3.plot(x, np.sin(x - 2), color=(0.0,0.8,0.81))\n",
    "ax4.plot(x, np.sin(x - 4), color='#B8D62E')"
   ]
  },
  {
   "cell_type": "markdown",
   "metadata": {},
   "source": [
    "#### `Figure` vs. `Axes` methods\n",
    "\n",
    "Perhaps the trickiest part about subplots – and `Axes` methods in general – is adjusting the axes settings. While most `Figure` functions translate directly `Axes` methods (e.g. `plt.plot()` $\\rightarrow$ `ax.plot()`, `plt.legend()` $\\rightarrow$ `ax.legend()`), commands to set limits, ticks, labels, and titles are slightly modified. Some important `Figure` methods and their `Axes` counterparts are shown in the table below.\n",
    "\n",
    "| <span class=\"codeb\">Figure</span> command | <span class=\"codeb\">Axes</span> command    |\n",
    "| :--------------------------------------   | :----------------------------------------- |\n",
    "| <span class=\"codeb\">plt.xlabel()</span>   | <span class=\"codeb\">ax.set_xlabel()</span> |\n",
    "| <span class=\"codeb\">plt.ylabel()</span>   | <span class=\"codeb\">ax.set_ylabel()</span> |\n",
    "| <span class=\"codeb\">plt.xlim()</span>     | <span class=\"codeb\">ax.set_xlim()</span>   |\n",
    "| <span class=\"codeb\">plt.ylim()</span>     | <span class=\"codeb\">ax.set_ylim()</span>   |\n",
    "| <span class=\"codeb\">plt.xticks()</span>   | <span class=\"codeb\">ax.set_xticks()</span> |\n",
    "| <span class=\"codeb\">plt.yticks()</span>   | <span class=\"codeb\">ax.set_yticks()</span> |\n",
    "\n",
    "These are different primarily because the `Figure` functions are inherited from MATLAB, while the `Axes` functions are object-oriented. *Generally*, the arguments are similar – if not identical – between the two.\n",
    "\n",
    "<div class=\"run\">\n",
    "    ▶️ <b> Run the cell below. </b>\n",
    "</div>"
   ]
  },
  {
   "cell_type": "code",
   "execution_count": null,
   "metadata": {},
   "outputs": [],
   "source": [
    "# Initialize empty figure\n",
    "fig = plt.figure()\n",
    "# Add four axes\n",
    "ax1 = fig.add_subplot(2,2,1)\n",
    "ax2 = fig.add_subplot(2,2,2)\n",
    "ax3 = fig.add_subplot(2,2,3)\n",
    "ax4 = fig.add_subplot(2,2,4)\n",
    "\n",
    "# Plot data\n",
    "# Plot sine wave with different colors on different axes\n",
    "ax1.plot(x, np.sin(x - 0), color='darkblue')\n",
    "ax2.plot(x, np.sin(x - 1), color='m')\n",
    "ax3.plot(x, np.sin(x - 2), color=(0.0,0.8,0.81))\n",
    "ax4.plot(x, np.sin(x - 4), color='#B8D62E')\n",
    "\n",
    "# Set axes limits, labels, + ticks\n",
    "for i,ax in enumerate([ax1,ax2,ax3,ax4]):\n",
    "    # Set x limits \n",
    "    ax.set_xlim(-5,5)\n",
    "    # Set title\n",
    "    ax.set_title(r'$\\sin{(x - %d)}$' % i)\n",
    "    # Only label x ticks and x-axis on bottom row\n",
    "    if i < 2:\n",
    "        ax.set_xticklabels([])\n",
    "    else:\n",
    "        ax.set_xlabel('x')\n",
    "    # Only label y ticks and y-axis on left column\n",
    "    if i == 0 or i == 2:\n",
    "        ax.set_ylabel('y')\n",
    "    else:\n",
    "        ax.set_yticklabels([])\n",
    "\n",
    "plt.tight_layout()"
   ]
  },
  {
   "cell_type": "markdown",
   "metadata": {},
   "source": [
    "In the last example, we included a command, `plt.tight_layout()`, which automatically formats the figure to fit the window. This is most useful when using an IDE with a separate plotting window, rather than with in-line plots like those in a notebook. To get a sense of what `plt.tight_layout()` does, try re-running the above cell with this command commented out.\n",
    "\n",
    "To go beyond regularly gridded subplots and create subplots that span multiple rows and/or columns, check out [`GridSpec`](https://matplotlib.org/3.1.1/api/_as_gen/matplotlib.gridspec.GridSpec.html#matplotlib.gridspec.GridSpec)."
   ]
  },
  {
   "cell_type": "markdown",
   "metadata": {},
   "source": [
    "<div class=\"practice\">\n",
    "    📚  <b> Practice 1. </b> \n",
    "    Recreate the plot below. You do not need to match the colors exactly, but do not rely on <span class=\"codeb\">matplotlib</span> defaults. Note: do not worry about the equation(s); these are included to indicate which functions to plot.\n",
    "</div>\n",
    "<img src=\"./assets/mpl_prac1.svg\" alt=\"prac1\" width=\"600\"/>"
   ]
  },
  {
   "cell_type": "code",
   "execution_count": null,
   "metadata": {},
   "outputs": [],
   "source": []
  },
  {
   "cell_type": "markdown",
   "metadata": {},
   "source": [
    "<div class=\"practice\">\n",
    "    📚  <b> Practice 2. </b> \n",
    "    Recreate the plot below. You do not need to match the colors exactly, but do not rely on <span class=\"codeb\">matplotlib</span> defaults. Note: do not worry about the equation(s); these are included to indicate which functions to plot.\n",
    "</div>\n",
    "\n",
    "<img src=\"./assets/mpl_prac2.svg\" alt=\"prac2\" width=\"600\"/>"
   ]
  },
  {
   "cell_type": "code",
   "execution_count": null,
   "metadata": {},
   "outputs": [],
   "source": []
  },
  {
   "cell_type": "markdown",
   "metadata": {},
   "source": [
    "### Working with real data\n",
    "<hr style=\"border-top: 0.2px solid gray; margin-top: 12px; margin-bottom: 1px\"></hr>\n",
    "\n",
    "As we learned in the previous exercise, working with real-world data usually complicates things, and plotting is no exception. In particular, working with time series can get a bit messy. Let's take a look at our BSRN data as an example.\n",
    "\n",
    "<div class=\"run\">\n",
    "    ▶️ <b> Run the cell below. </b>\n",
    "</div>"
   ]
  },
  {
   "cell_type": "code",
   "execution_count": null,
   "metadata": {},
   "outputs": [],
   "source": [
    "# Import data\n",
    "bsrn = pd.read_csv('../data/BSRN_GOB_2019-10.csv',index_col=0,parse_dates=True)"
   ]
  },
  {
   "cell_type": "markdown",
   "metadata": {},
   "source": [
    "Now that we've imported our data, let's make a quick plot of incoming shortwave radiation over time.\n",
    "\n",
    "<div class=\"run\">\n",
    "    ▶️ <b> Run the cell below. </b>\n",
    "</div>"
   ]
  },
  {
   "cell_type": "code",
   "execution_count": null,
   "metadata": {},
   "outputs": [],
   "source": [
    "# Initialize empty figure\n",
    "fig = plt.figure()\n",
    "# Plot incoming SW radiation\n",
    "plt.plot(bsrn.index,bsrn.SWD_Wm2)\n",
    "# Label y-axis\n",
    "plt.ylabel(r'Incoming SW radiation (W m$^{-2}$)')"
   ]
  },
  {
   "cell_type": "markdown",
   "metadata": {},
   "source": [
    "The x-axis looks rather messy because the tick labels are *timestamps*, which are, by nature, very long. Luckily, <span class=\"code\">matplotlib</span> has a module called <span class=\"code\">dates</span> for dealing with `datetime` objects. \n",
    "\n",
    "<div class=\"run\">\n",
    "    ▶️ <b> Run the cell below. </b>\n",
    "</div>"
   ]
  },
  {
   "cell_type": "code",
   "execution_count": null,
   "metadata": {},
   "outputs": [],
   "source": [
    "import matplotlib.dates as mdates"
   ]
  },
  {
   "cell_type": "markdown",
   "metadata": {},
   "source": [
    "Without going into too much detail, we can use some of the more advanced `Axes` settings to format and rotate the tick labels such that they no longer overlap, and we can use <span class=\"code\">matplotlib.dates</span> to format the timestamps. In short, we will use the `mdates.DateFormatter()` function to format the timestamps according to [C formatting codes](https://docs.python.org/3/library/datetime.html#strftime-and-strptime-behavior). \n",
    "\n",
    "The following example demonstrates this, and includes a good code chunk for formatting timestamps to add to your repertoire. It is important to note that the formatting methods employed here are `Axes` methods, which means that we must operate on an `Axes` object, rather than the `Figure`.\n",
    "\n",
    "<div class=\"run\">\n",
    "    ▶️ <b> Run the cell below. </b>\n",
    "</div>"
   ]
  },
  {
   "cell_type": "code",
   "execution_count": null,
   "metadata": {},
   "outputs": [],
   "source": [
    "# Initialize empty figure and axes\n",
    "fig = plt.figure()\n",
    "ax = fig.add_subplot(1,1,1)\n",
    "# Plot incoming SW radiation\n",
    "ax.plot(bsrn.index,bsrn.SWD_Wm2)\n",
    "# Label y-axis\n",
    "ax.set_ylabel(r'Incoming SW radiation (W m$^{-2}$)')\n",
    "\n",
    "# Format timestamps\n",
    "ax.xaxis.set_major_formatter(mdates.DateFormatter('%d-%b-%y'))\n",
    "# Format and rotate ticks\n",
    "plt.setp(ax.get_xticklabels(), rotation=45, fontsize=10, ha='right')\n",
    "ax.get_xticklabels()"
   ]
  },
  {
   "cell_type": "markdown",
   "metadata": {},
   "source": [
    "<div class=\"practice\">\n",
    "    📚  <b> Practice 3. </b> \n",
    "    Plot temperature and relative humidity (ideally using subplots) over the month of October 2019 at the BSRN station. Be sure to format the timestamps and include axis labels, a title, and a legend, if necessary.\n",
    "</div>"
   ]
  },
  {
   "cell_type": "code",
   "execution_count": null,
   "metadata": {},
   "outputs": [],
   "source": []
  },
  {
   "cell_type": "markdown",
   "metadata": {},
   "source": [
    "<div class=\"practice\">\n",
    "    📚  <b> Practice 4. </b> \n",
    "    Saturation vapor pressure, $e^*(T_a)$, is the maximum pressure of water vapor that can exist in equilibrium above a flat plane of water at a given temperature. It can be calculated from the Tetens equation:\n",
    "    $$e^{*}(T_{a}) \\, = \\, a \\, e^{\\frac{b\\, \\cdot \\, T_{_a}}{T_{_a}\\, + \\, c}} $$\n",
    "where $T_a$ is the air temperature in °C, $a = 0.611 \\, \\text{kPa}$, $b = 17.502$, and $c = 240.97^{\\circ} \\text{C}$. <br>\n",
    "    \n",
    "<ol class=\"alpha\">\n",
    "    <li> Calculate $e^*(T_a)$ in kPa for all temperatures in <code>bsrn</code>. </li>\n",
    "    <li> Plot temperature vs. saturation vapor pressure for the BSRN station. Be sure to format your plot appropriately and include axis labels, a title, and a legend, if necessary.</li> \n",
    "    <li> Compare your plot to Figure 3-1 in Campbell and Norman (1998). Do they look more or less the same? </li>\n",
    "</ol>\n",
    "</div>"
   ]
  },
  {
   "cell_type": "code",
   "execution_count": null,
   "metadata": {},
   "outputs": [],
   "source": []
  },
  {
   "cell_type": "markdown",
   "metadata": {},
   "source": [
    "<div class=\"practice\">\n",
    "    📚  <b> Practice 5. </b> \n",
    "    The difference between saturation vapor pressure and ambient air pressure is called vapor pressure deficit, $\\textit{VPD}$. $\\textit{VPD}$ can be calculated from saturation vapor pressure and relative humidity, $h_r$, as follows:\n",
    "    $$ \\textit{VPD} \\, = \\, e^*(T_a) \\cdot (1 \\, - \\, h_r)$$\n",
    "where $h_r$ is expressed as a fraction.\n",
    "<ol class=\"alpha\">\n",
    "    <li> Calculate the vapor pressure deficit for the BSRN data. </li>\n",
    "    <li> Calculate the mean hourly $e^*(T_a)$ and $\\textit{VPD}$ over the entire month. </li>\n",
    "    <li> Plot $e^*(T_a)$ and $\\textit{VPD}$ as a function of time of day. (Bonus: if you want to get fancy, plot both variables on one plot using <a href=\"https://matplotlib.org/3.1.1/gallery/subplots_axes_and_figures/two_scales.html#sphx-glr-gallery-subplots-axes-and-figures-two-scales-py\"> <code>ax.twinx()</code></a>.)</li> \n",
    "    <li> How does relative humidity vary throughout the day? Why? </li>\n",
    "    <li> Compare your plot(s) to Figure 3-3 in Campbell and Norman (1998). How do the values of $e^*(T_a)$ and $\\textit{VPD}$ for the BSRN station compare to those at constant vapor pressure in Figure 3-3?</li>\n",
    "</ol>\n",
    "</div>"
   ]
  },
  {
   "cell_type": "code",
   "execution_count": null,
   "metadata": {},
   "outputs": [],
   "source": []
  },
  {
   "cell_type": "markdown",
   "metadata": {},
   "source": [
    "<hr style=\"border-top: 1px solid gray; margin-top: 24px; margin-bottom: 1px\"></hr>"
   ]
  },
  {
   "cell_type": "code",
   "execution_count": null,
   "metadata": {},
   "outputs": [],
   "source": [
    "# IGNORE THIS CELL\n",
    "from IPython.core.display import HTML\n",
    "def css_styling():\n",
    "    styles = open(\"./styles/exercises.css\", \"r\").read()\n",
    "    return HTML(styles)\n",
    "css_styling()"
   ]
  }
 ],
 "metadata": {
  "kernelspec": {
   "display_name": "Python 3 (ipykernel)",
   "language": "python",
   "name": "python3"
  },
  "language_info": {
   "codemirror_mode": {
    "name": "ipython",
    "version": 3
   },
   "file_extension": ".py",
   "mimetype": "text/x-python",
   "name": "python",
   "nbconvert_exporter": "python",
   "pygments_lexer": "ipython3",
   "version": "3.10.5"
  }
 },
 "nbformat": 4,
 "nbformat_minor": 4
}
