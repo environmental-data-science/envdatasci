{
 "cells": [
  {
   "cell_type": "markdown",
   "metadata": {
    "slideshow": {
     "slide_type": "slide"
    }
   },
   "source": [
    "# EDS 217, Lecture 2: The Zen of Python & Data Structures"
   ]
  },
  {
   "cell_type": "code",
   "execution_count": null,
   "metadata": {
    "slideshow": {
     "slide_type": "slide"
    }
   },
   "outputs": [],
   "source": [
    "# What is the Zen of Python??\n",
    "import this"
   ]
  },
  {
   "cell_type": "markdown",
   "metadata": {
    "cell_style": "split",
    "slideshow": {
     "slide_type": "subslide"
    }
   },
   "source": [
    "### Beautiful is better than ugly"
   ]
  },
  {
   "cell_type": "code",
   "execution_count": null,
   "metadata": {
    "cell_style": "split",
    "slideshow": {
     "slide_type": "fragment"
    }
   },
   "outputs": [],
   "source": [
    "# \"And Or\""
   ]
  },
  {
   "cell_type": "markdown",
   "metadata": {
    "cell_style": "split",
    "slideshow": {
     "slide_type": "subslide"
    }
   },
   "source": [
    "### Explicit is better than implicit"
   ]
  },
  {
   "cell_type": "code",
   "execution_count": null,
   "metadata": {
    "cell_style": "split",
    "slideshow": {
     "slide_type": "fragment"
    }
   },
   "outputs": [],
   "source": [
    "# \"Import-ance\"\n",
    "url = 'https://jsonplaceholder.typicode.com/posts/1'\n",
    "\n",
    "# explicit\n",
    "\n",
    "\n",
    "# implicit\n"
   ]
  },
  {
   "cell_type": "markdown",
   "metadata": {
    "cell_style": "split",
    "slideshow": {
     "slide_type": "subslide"
    }
   },
   "source": [
    "### Simple is better than complex"
   ]
  },
  {
   "cell_type": "code",
   "execution_count": null,
   "metadata": {
    "cell_style": "split",
    "slideshow": {
     "slide_type": "fragment"
    }
   },
   "outputs": [],
   "source": [
    "# \"Addition through subtractions\"\n",
    "# complex:\n",
    "\n",
    "\n",
    "# simple:\n",
    "\n"
   ]
  },
  {
   "cell_type": "markdown",
   "metadata": {
    "cell_style": "split",
    "slideshow": {
     "slide_type": "subslide"
    }
   },
   "source": [
    "### Readability Matters\n",
    "\n",
    "Curly Bracket Languages: Define code blocks using `{` and `}`. (Some also define the end of a statement using `;`)\n",
    "(aspects of _semantics_ are defined by _syntax_)\n",
    "\n",
    "Examples: `C`, `Javascript`, `R`\n",
    "\n",
    "[Offsides Rule Languages](https://en.wikipedia.org/wiki/Off-side_rule): Define code blocks using indentation.\n",
    "\n"
   ]
  },
  {
   "cell_type": "markdown",
   "metadata": {
    "cell_style": "split",
    "slideshow": {
     "slide_type": "fragment"
    }
   },
   "source": [
    "#### R: (Curly Brackets + Indentation)\n",
    "```R\n",
    "if(a > b) {\n",
    "    print(\"a is greater than b\")\n",
    "} else {\n",
    "    print(\"a is not greater than b\")\n",
    "}\n",
    "```\n",
    "\n",
    "#### Python (Indentation)\n",
    "```python\n",
    "if a > b:\n",
    "    print(\"a is greater than b\")\n",
    "else:\n",
    "    print(\"a is not greater than b\")\n",
    "```\n"
   ]
  },
  {
   "cell_type": "markdown",
   "metadata": {
    "cell_style": "split",
    "slideshow": {
     "slide_type": "subslide"
    }
   },
   "source": [
    "### Readability matters"
   ]
  },
  {
   "cell_type": "markdown",
   "metadata": {
    "slideshow": {
     "slide_type": "fragment"
    }
   },
   "source": [
    "**Clear:**\n",
    "```javascript\n",
    "// This function takes a name and logs\n",
    "// a string which greets that name\n",
    "function sayHi(name) {\n",
    "    console.log(\"Hi \" + name + \", nice to meet you.\")\n",
    "}\n",
    "\n",
    "sayHi(\"Sam\");\n",
    "```\n",
    "\n",
    "**Not Clear (\"Minified\"):**\n",
    "```javascript\n",
    "function f(o){console.log(\"Hi \"+o+\", nice to meet you.\")}f(\"Sam\");\n",
    "```\n"
   ]
  },
  {
   "cell_type": "markdown",
   "metadata": {
    "cell_style": "split",
    "slideshow": {
     "slide_type": "subslide"
    }
   },
   "source": [
    "### Errors should never pass silently\n"
   ]
  },
  {
   "cell_type": "code",
   "execution_count": null,
   "metadata": {
    "cell_style": "split",
    "slideshow": {
     "slide_type": "fragment"
    }
   },
   "outputs": [],
   "source": [
    "# Let's make some mistakes!\n"
   ]
  },
  {
   "cell_type": "markdown",
   "metadata": {
    "slideshow": {
     "slide_type": "slide"
    }
   },
   "source": [
    "## Python Errors\n",
    "\n",
    "There are two types of errors in Python: `SyntaxErrors` and `Exceptions`.\n"
   ]
  },
  {
   "cell_type": "markdown",
   "metadata": {
    "slideshow": {
     "slide_type": "slide"
    }
   },
   "source": [
    "### SyntaxErrors\n",
    "\n",
    "A `SyntaxError` happens when the Python language interpreter (the parser) detects an incorrectly formatted statement.\n"
   ]
  },
  {
   "cell_type": "markdown",
   "metadata": {
    "slideshow": {
     "slide_type": "slide"
    }
   },
   "source": [
    "This code is trying to divide zero by 1. What happens when we run it?\n",
    "\n",
    "```python\n",
    ">>> print( 0 / 1 ))\n",
    "```"
   ]
  },
  {
   "cell_type": "code",
   "execution_count": null,
   "metadata": {
    "slideshow": {
     "slide_type": "fragment"
    }
   },
   "outputs": [],
   "source": [
    "print( 0 / 1 )\n",
    "a = 'quote'"
   ]
  },
  {
   "cell_type": "markdown",
   "metadata": {
    "slideshow": {
     "slide_type": "fragment"
    }
   },
   "source": [
    "When python says `SyntaxError`, you should read this as `I don't know what you want me to do!?`"
   ]
  },
  {
   "cell_type": "markdown",
   "metadata": {
    "slideshow": {
     "slide_type": "skip"
    }
   },
   "source": [
    "Often the error includes some indication of where the problem is, although this indication can sometimes be misleading if the detection occurs far away from the syntax problem that created the error."
   ]
  },
  {
   "cell_type": "markdown",
   "metadata": {
    "slideshow": {
     "slide_type": "slide"
    }
   },
   "source": [
    "### Exceptions\n",
    "\n",
    "An `Exception` happens the code you have written violates the Python language specification."
   ]
  },
  {
   "cell_type": "markdown",
   "metadata": {
    "slideshow": {
     "slide_type": "slide"
    }
   },
   "source": [
    "This code is trying to divide zero by 0. Its _syntax_ is correct. But what happens when we run it?\n",
    "\n",
    "```python\n",
    ">>> print( 0 / 0 )\n",
    "```"
   ]
  },
  {
   "cell_type": "code",
   "execution_count": null,
   "metadata": {
    "slideshow": {
     "slide_type": "fragment"
    }
   },
   "outputs": [],
   "source": [
    "print( 0 / 0 )"
   ]
  },
  {
   "cell_type": "markdown",
   "metadata": {
    "slideshow": {
     "slide_type": "fragment"
    }
   },
   "source": [
    "When python says anything other than `SyntaxError`, you should read this as `You are asking to do something I can't do`"
   ]
  },
  {
   "cell_type": "markdown",
   "metadata": {
    "slideshow": {
     "slide_type": "fragment"
    }
   },
   "source": [
    "In this case, the `ZeroDivisionError` is raised because the Python language specification does not allow for division by zero."
   ]
  },
  {
   "cell_type": "markdown",
   "metadata": {
    "slideshow": {
     "slide_type": "slide"
    }
   },
   "source": [
    "### Types of Exceptions\n",
    "\n",
    "Python has a lot of builtin Errors that correspond to the definition of the Python language. \n"
   ]
  },
  {
   "cell_type": "markdown",
   "metadata": {
    "slideshow": {
     "slide_type": "fragment"
    }
   },
   "source": [
    "A few common Exceptions you will see include `TypeError`, `IndexError`, and `KeyError`."
   ]
  },
  {
   "cell_type": "markdown",
   "metadata": {
    "slideshow": {
     "slide_type": "subslide"
    }
   },
   "source": [
    "### `TypeError`\n",
    "\n",
    "\n",
    "A `TypeError` is raised when you try to perform a valid method on an inappropriate data type. "
   ]
  },
  {
   "cell_type": "code",
   "execution_count": null,
   "metadata": {
    "slideshow": {
     "slide_type": "fragment"
    }
   },
   "outputs": [],
   "source": [
    "# TypeError Examples:\n",
    "'a' + 3"
   ]
  },
  {
   "cell_type": "markdown",
   "metadata": {
    "slideshow": {
     "slide_type": "subslide"
    }
   },
   "source": [
    "### `IndexError`\n",
    "\n",
    "\n",
    "An `IndexError` is raised when you try to access an undefined element of a sequence. Sequences are structured data types whose elements are stored in a specific order. A **list** is an example of a sequence."
   ]
  },
  {
   "cell_type": "code",
   "execution_count": null,
   "metadata": {
    "slideshow": {
     "slide_type": "fragment"
    }
   },
   "outputs": [],
   "source": [
    "# IndexError Example:\n",
    "my_list = ['a', 'b', 'c', 'd']\n",
    "my_list[5]"
   ]
  },
  {
   "cell_type": "markdown",
   "metadata": {
    "slideshow": {
     "slide_type": "subslide"
    }
   },
   "source": [
    "### `KeyError`\n",
    "\n",
    "A `KeyError` is raised when you try to perform a valid method on an inappropriate data type. "
   ]
  },
  {
   "cell_type": "code",
   "execution_count": null,
   "metadata": {
    "slideshow": {
     "slide_type": "fragment"
    }
   },
   "outputs": [],
   "source": [
    "# KeyError Examples:\n",
    "\n",
    "my_dict = {'column_1': 'definition 1', 'another_word': 'a second definition'}\n",
    "my_dict['column1']"
   ]
  },
  {
   "cell_type": "markdown",
   "metadata": {
    "slideshow": {
     "slide_type": "slide"
    }
   },
   "source": [
    "## Finding Help\n",
    "\n",
    "\n",
    "When you get an error, or an unexpected result, or you are not sure what to do... \n",
    "\n",
    "### Options:\n",
    "\n",
    "- Finding help _inside_ Python\n",
    "- Finding help _outside_ Python\n",
    "\n"
   ]
  },
  {
   "cell_type": "markdown",
   "metadata": {
    "slideshow": {
     "slide_type": "subslide"
    }
   },
   "source": [
    "### Finding Help Inside Python\n",
    "\n",
    "How do we interrogate the data (and other objects) we encounter while coding?\n",
    "\n",
    "```python\n",
    "\n",
    "my_var = 'some_unknown_thing'\n",
    "\n",
    "```\n",
    "\n",
    "What is it?"
   ]
  },
  {
   "cell_type": "code",
   "execution_count": null,
   "metadata": {
    "slideshow": {
     "slide_type": "fragment"
    }
   },
   "outputs": [],
   "source": [
    "my_var = 'some_unknown_thing'\n",
    "type(my_var)\n",
    "my_number = 1.\n",
    "type(my_number)"
   ]
  },
  {
   "cell_type": "markdown",
   "metadata": {
    "slideshow": {
     "slide_type": "fragment"
    }
   },
   "source": [
    "The `type()` command tells you what sort of thing an object is."
   ]
  },
  {
   "cell_type": "markdown",
   "metadata": {
    "slideshow": {
     "slide_type": "subslide"
    }
   },
   "source": [
    "### Finding Help Inside Python\n",
    "\n",
    "How do we interrogate the data (and other objects) we encounter while coding?\n",
    "\n",
    "```python\n",
    "\n",
    "my_var = 'some_unknown_thing'\n",
    "\n",
    "```\n",
    "\n",
    "What can I do with it?"
   ]
  },
  {
   "cell_type": "code",
   "execution_count": null,
   "metadata": {
    "slideshow": {
     "slide_type": "fragment"
    }
   },
   "outputs": [],
   "source": [
    "my_var = ['my', 'list', 'of', 'things']\n",
    "dir(my_var)"
   ]
  },
  {
   "cell_type": "markdown",
   "metadata": {
    "slideshow": {
     "slide_type": "fragment"
    }
   },
   "source": [
    "The `dir()` command tells you what attributes an object has."
   ]
  },
  {
   "cell_type": "markdown",
   "metadata": {
    "slideshow": {
     "slide_type": "slide"
    }
   },
   "source": [
    "### How to get help outside of Python\n",
    "\n",
    "- [Python Docs](https://docs.python.org/3.7/)\n",
    "- [Stack Overflow](https://stackoverflow.com)"
   ]
  },
  {
   "cell_type": "code",
   "execution_count": null,
   "metadata": {},
   "outputs": [],
   "source": [
    "from platform import python_version\n",
    "\n",
    "print(python_version())"
   ]
  },
  {
   "cell_type": "code",
   "execution_count": null,
   "metadata": {
    "slideshow": {
     "slide_type": "slide"
    }
   },
   "outputs": [],
   "source": [
    "## The End"
   ]
  }
 ],
 "metadata": {
  "celltoolbar": "Slideshow",
  "kernelspec": {
   "display_name": "eds-217",
   "language": "python",
   "name": "eds-217"
  },
  "language_info": {
   "codemirror_mode": {
    "name": "ipython",
    "version": 3
   },
   "file_extension": ".py",
   "mimetype": "text/x-python",
   "name": "python",
   "nbconvert_exporter": "python",
   "pygments_lexer": "ipython3",
   "version": "3.10.5"
  }
 },
 "nbformat": 4,
 "nbformat_minor": 4
}
